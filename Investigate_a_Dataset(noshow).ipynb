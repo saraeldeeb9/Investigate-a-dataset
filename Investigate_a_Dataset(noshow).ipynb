{
 "cells": [
  {
   "cell_type": "markdown",
   "metadata": {},
   "source": [
    "\n",
    "# Project: Investigate a Dataset - [No-show appointment]\n",
    "\n",
    "## Table of Contents\n",
    "<ul>\n",
    "<li><a href=\"#intro\">Introduction</a></li>\n",
    "<li><a href=\"#description\">Dataset Description</a></li>\n",
    "<li><a href=\"#questions\">Questions for Analysis</a></li>\n",
    "<li><a href=\"#wrangling\">Data Wrangling</a></li>\n",
    "<li><a href=\"#cleaning\">Data cleaning</a></li>\n",
    "<li><a href=\"#eda\">Exploratory Data Analysis</a></li>\n",
    "<li><a href=\"#conclusions\">Conclusions</a></li>\n",
    "</ul>"
   ]
  },
  {
   "cell_type": "markdown",
   "metadata": {},
   "source": [
    "<a id='intro'></a>\n",
    "## Introduction\n",
    "In this project i will investigate this dataset.The data includes some attributes of patients and state if the patients showed up to appointments. The analysis is focused on finding trends influencing patients to show or not show up to appointments.The dataset collects information from 100k medical appointments in Brazil and is focused on the question of whether or not patients show up for their appointment.\n",
    "<a id='description'></a>\n",
    "## Dataset Description \n",
    "\n",
    "- PatienID :identification of a patient\n",
    "- AppointmentID\t: identification of each appointment\n",
    "- Gender : it says 'F' if female or 'M' if man\n",
    "- ScheduledDay : tells us on what day the patient set up their appointment\n",
    "- AppointmentDay : the day of the actuall appointment, when they have to visit the doctor\n",
    "- Age : how old is the patient\n",
    "- Neighbourhood : indicates the location of the hospital\n",
    "- Scholarship : indicates whether or not the patient is enrolled in Brasilian welfare program Bolsa Família\n",
    "- Hipertension : indicates if the patient has hipertension\n",
    "- Diabetes : indicates if the patient has diabetes\n",
    "- Alcoholism : indicates if the patient is an alcoholic\n",
    "- Handcap : indicates if the patient is handicaped\n",
    "- SMS_received : 1 or more messages sent to the patient\n",
    "- No-show : it says ‘No’ if the patient showed up to their appointment, and ‘Yes’ if they did not show up\n",
    "\n",
    "\n",
    "\n",
    "\n"
   ]
  },
  {
   "cell_type": "markdown",
   "metadata": {},
   "source": [
    "<a id='questions'></a>\n",
    "## Questions for Analysis\n",
    "- What factors are important for us to know in order to predict if a patient will show up for their scheduled appointment? \n",
    "- Does gender have anything to do with if a person does not show up to their appointment?\n",
    "- Does where a person live affect if they show up to their appointment?\n",
    "- Does a certain age not show up more than other ages?\n",
    "- What is the trend in times for persons who show and not show?"
   ]
  },
  {
   "cell_type": "markdown",
   "metadata": {},
   "source": [
    "<a id='wrangling'></a>\n",
    "## Data Wrangling\n",
    "\n"
   ]
  },
  {
   "cell_type": "code",
   "execution_count": 1,
   "metadata": {},
   "outputs": [
    {
     "name": "stdout",
     "output_type": "stream",
     "text": [
      "Requirement already satisfied: pandas in c:\\users\\sara\\anaconda3\\lib\\site-packages (1.3.4)\n",
      "Requirement already satisfied: python-dateutil>=2.7.3 in c:\\users\\sara\\anaconda3\\lib\\site-packages (from pandas) (2.8.1)\n",
      "Requirement already satisfied: pytz>=2017.3 in c:\\users\\sara\\anaconda3\\lib\\site-packages (from pandas) (2021.1)\n",
      "Requirement already satisfied: numpy>=1.17.3 in c:\\users\\sara\\anaconda3\\lib\\site-packages (from pandas) (1.20.1)\n",
      "Requirement already satisfied: six>=1.5 in c:\\users\\sara\\anaconda3\\lib\\site-packages (from python-dateutil>=2.7.3->pandas) (1.15.0)\n"
     ]
    }
   ],
   "source": [
    "!pip3 install pandas"
   ]
  },
  {
   "cell_type": "code",
   "execution_count": 2,
   "metadata": {},
   "outputs": [],
   "source": [
    "import numpy as np\n",
    "import pandas as pd\n",
    "import matplotlib.pyplot as plt\n",
    "import seaborn as sns\n",
    "\n",
    "import warnings\n",
    "warnings.filterwarnings('ignore')\n",
    "\n",
    "%matplotlib inline\n",
    "\n"
   ]
  },
  {
   "cell_type": "code",
   "execution_count": 3,
   "metadata": {},
   "outputs": [
    {
     "data": {
      "text/html": [
       "<div>\n",
       "<style scoped>\n",
       "    .dataframe tbody tr th:only-of-type {\n",
       "        vertical-align: middle;\n",
       "    }\n",
       "\n",
       "    .dataframe tbody tr th {\n",
       "        vertical-align: top;\n",
       "    }\n",
       "\n",
       "    .dataframe thead th {\n",
       "        text-align: right;\n",
       "    }\n",
       "</style>\n",
       "<table border=\"1\" class=\"dataframe\">\n",
       "  <thead>\n",
       "    <tr style=\"text-align: right;\">\n",
       "      <th></th>\n",
       "      <th>PatientId</th>\n",
       "      <th>AppointmentID</th>\n",
       "      <th>Gender</th>\n",
       "      <th>ScheduledDay</th>\n",
       "      <th>AppointmentDay</th>\n",
       "      <th>Age</th>\n",
       "      <th>Neighbourhood</th>\n",
       "      <th>Scholarship</th>\n",
       "      <th>Hipertension</th>\n",
       "      <th>Diabetes</th>\n",
       "      <th>Alcoholism</th>\n",
       "      <th>Handcap</th>\n",
       "      <th>SMS_received</th>\n",
       "      <th>No-show</th>\n",
       "    </tr>\n",
       "  </thead>\n",
       "  <tbody>\n",
       "    <tr>\n",
       "      <th>0</th>\n",
       "      <td>2.987250e+13</td>\n",
       "      <td>5642903</td>\n",
       "      <td>F</td>\n",
       "      <td>2016-04-29T18:38:08Z</td>\n",
       "      <td>2016-04-29T00:00:00Z</td>\n",
       "      <td>62</td>\n",
       "      <td>JARDIM DA PENHA</td>\n",
       "      <td>0</td>\n",
       "      <td>1</td>\n",
       "      <td>0</td>\n",
       "      <td>0</td>\n",
       "      <td>0</td>\n",
       "      <td>0</td>\n",
       "      <td>No</td>\n",
       "    </tr>\n",
       "    <tr>\n",
       "      <th>1</th>\n",
       "      <td>5.589978e+14</td>\n",
       "      <td>5642503</td>\n",
       "      <td>M</td>\n",
       "      <td>2016-04-29T16:08:27Z</td>\n",
       "      <td>2016-04-29T00:00:00Z</td>\n",
       "      <td>56</td>\n",
       "      <td>JARDIM DA PENHA</td>\n",
       "      <td>0</td>\n",
       "      <td>0</td>\n",
       "      <td>0</td>\n",
       "      <td>0</td>\n",
       "      <td>0</td>\n",
       "      <td>0</td>\n",
       "      <td>No</td>\n",
       "    </tr>\n",
       "    <tr>\n",
       "      <th>2</th>\n",
       "      <td>4.262962e+12</td>\n",
       "      <td>5642549</td>\n",
       "      <td>F</td>\n",
       "      <td>2016-04-29T16:19:04Z</td>\n",
       "      <td>2016-04-29T00:00:00Z</td>\n",
       "      <td>62</td>\n",
       "      <td>MATA DA PRAIA</td>\n",
       "      <td>0</td>\n",
       "      <td>0</td>\n",
       "      <td>0</td>\n",
       "      <td>0</td>\n",
       "      <td>0</td>\n",
       "      <td>0</td>\n",
       "      <td>No</td>\n",
       "    </tr>\n",
       "    <tr>\n",
       "      <th>3</th>\n",
       "      <td>8.679512e+11</td>\n",
       "      <td>5642828</td>\n",
       "      <td>F</td>\n",
       "      <td>2016-04-29T17:29:31Z</td>\n",
       "      <td>2016-04-29T00:00:00Z</td>\n",
       "      <td>8</td>\n",
       "      <td>PONTAL DE CAMBURI</td>\n",
       "      <td>0</td>\n",
       "      <td>0</td>\n",
       "      <td>0</td>\n",
       "      <td>0</td>\n",
       "      <td>0</td>\n",
       "      <td>0</td>\n",
       "      <td>No</td>\n",
       "    </tr>\n",
       "    <tr>\n",
       "      <th>4</th>\n",
       "      <td>8.841186e+12</td>\n",
       "      <td>5642494</td>\n",
       "      <td>F</td>\n",
       "      <td>2016-04-29T16:07:23Z</td>\n",
       "      <td>2016-04-29T00:00:00Z</td>\n",
       "      <td>56</td>\n",
       "      <td>JARDIM DA PENHA</td>\n",
       "      <td>0</td>\n",
       "      <td>1</td>\n",
       "      <td>1</td>\n",
       "      <td>0</td>\n",
       "      <td>0</td>\n",
       "      <td>0</td>\n",
       "      <td>No</td>\n",
       "    </tr>\n",
       "  </tbody>\n",
       "</table>\n",
       "</div>"
      ],
      "text/plain": [
       "      PatientId  AppointmentID Gender          ScheduledDay  \\\n",
       "0  2.987250e+13        5642903      F  2016-04-29T18:38:08Z   \n",
       "1  5.589978e+14        5642503      M  2016-04-29T16:08:27Z   \n",
       "2  4.262962e+12        5642549      F  2016-04-29T16:19:04Z   \n",
       "3  8.679512e+11        5642828      F  2016-04-29T17:29:31Z   \n",
       "4  8.841186e+12        5642494      F  2016-04-29T16:07:23Z   \n",
       "\n",
       "         AppointmentDay  Age      Neighbourhood  Scholarship  Hipertension  \\\n",
       "0  2016-04-29T00:00:00Z   62    JARDIM DA PENHA            0             1   \n",
       "1  2016-04-29T00:00:00Z   56    JARDIM DA PENHA            0             0   \n",
       "2  2016-04-29T00:00:00Z   62      MATA DA PRAIA            0             0   \n",
       "3  2016-04-29T00:00:00Z    8  PONTAL DE CAMBURI            0             0   \n",
       "4  2016-04-29T00:00:00Z   56    JARDIM DA PENHA            0             1   \n",
       "\n",
       "   Diabetes  Alcoholism  Handcap  SMS_received No-show  \n",
       "0         0           0        0             0      No  \n",
       "1         0           0        0             0      No  \n",
       "2         0           0        0             0      No  \n",
       "3         0           0        0             0      No  \n",
       "4         1           0        0             0      No  "
      ]
     },
     "execution_count": 3,
     "metadata": {},
     "output_type": "execute_result"
    }
   ],
   "source": [
    "# Load your data and print out a few lines. Perform operations to inspect data\n",
    "df = pd.read_csv('noshowappointments-kagglev2-may-2016.csv')\n",
    "df.head()"
   ]
  },
  {
   "cell_type": "code",
   "execution_count": 4,
   "metadata": {},
   "outputs": [
    {
     "data": {
      "text/plain": [
       "Index(['PatientId', 'AppointmentID', 'Gender', 'ScheduledDay',\n",
       "       'AppointmentDay', 'Age', 'Neighbourhood', 'Scholarship', 'Hipertension',\n",
       "       'Diabetes', 'Alcoholism', 'Handcap', 'SMS_received', 'No-show'],\n",
       "      dtype='object')"
      ]
     },
     "execution_count": 4,
     "metadata": {},
     "output_type": "execute_result"
    }
   ],
   "source": [
    "df.columns"
   ]
  },
  {
   "cell_type": "code",
   "execution_count": 5,
   "metadata": {},
   "outputs": [
    {
     "data": {
      "text/plain": [
       "Index(['patient_Id', 'appointment_Id', 'Gender', 'Scheduled_Day',\n",
       "       'Appointment_Day', 'Age', 'Neighbourhood', 'Scholarship',\n",
       "       'hypertension', 'Diabetes', 'Aalcoholism', 'Handicap', 'Sms_received',\n",
       "       'No_show'],\n",
       "      dtype='object')"
      ]
     },
     "execution_count": 5,
     "metadata": {},
     "output_type": "execute_result"
    }
   ],
   "source": [
    "df.columns = ['patient_Id', 'appointment_Id', 'Gender', 'Scheduled_Day', \n",
    "              'Appointment_Day', 'Age', 'Neighbourhood', 'Scholarship', 'hypertension',\n",
    "              'Diabetes', 'Aalcoholism', 'Handicap', 'Sms_received', 'No_show']\n",
    "df.columns"
   ]
  },
  {
   "cell_type": "markdown",
   "metadata": {},
   "source": [
    "<a id='cleaning'></a>\n",
    "## Data Cleaning\n"
   ]
  },
  {
   "cell_type": "code",
   "execution_count": 6,
   "metadata": {
    "scrolled": true
   },
   "outputs": [
    {
     "data": {
      "text/html": [
       "<div>\n",
       "<style scoped>\n",
       "    .dataframe tbody tr th:only-of-type {\n",
       "        vertical-align: middle;\n",
       "    }\n",
       "\n",
       "    .dataframe tbody tr th {\n",
       "        vertical-align: top;\n",
       "    }\n",
       "\n",
       "    .dataframe thead th {\n",
       "        text-align: right;\n",
       "    }\n",
       "</style>\n",
       "<table border=\"1\" class=\"dataframe\">\n",
       "  <thead>\n",
       "    <tr style=\"text-align: right;\">\n",
       "      <th></th>\n",
       "      <th>patient_Id</th>\n",
       "      <th>appointment_Id</th>\n",
       "      <th>Gender</th>\n",
       "      <th>Scheduled_Day</th>\n",
       "      <th>Appointment_Day</th>\n",
       "      <th>Age</th>\n",
       "      <th>Neighbourhood</th>\n",
       "      <th>Scholarship</th>\n",
       "      <th>hypertension</th>\n",
       "      <th>Diabetes</th>\n",
       "      <th>Aalcoholism</th>\n",
       "      <th>Handicap</th>\n",
       "      <th>Sms_received</th>\n",
       "      <th>No_show</th>\n",
       "    </tr>\n",
       "  </thead>\n",
       "  <tbody>\n",
       "    <tr>\n",
       "      <th>0</th>\n",
       "      <td>2.987250e+13</td>\n",
       "      <td>5642903</td>\n",
       "      <td>F</td>\n",
       "      <td>2016-04-29T18:38:08Z</td>\n",
       "      <td>2016-04-29T00:00:00Z</td>\n",
       "      <td>62</td>\n",
       "      <td>JARDIM DA PENHA</td>\n",
       "      <td>0</td>\n",
       "      <td>1</td>\n",
       "      <td>0</td>\n",
       "      <td>0</td>\n",
       "      <td>0</td>\n",
       "      <td>0</td>\n",
       "      <td>No</td>\n",
       "    </tr>\n",
       "    <tr>\n",
       "      <th>1</th>\n",
       "      <td>5.589978e+14</td>\n",
       "      <td>5642503</td>\n",
       "      <td>M</td>\n",
       "      <td>2016-04-29T16:08:27Z</td>\n",
       "      <td>2016-04-29T00:00:00Z</td>\n",
       "      <td>56</td>\n",
       "      <td>JARDIM DA PENHA</td>\n",
       "      <td>0</td>\n",
       "      <td>0</td>\n",
       "      <td>0</td>\n",
       "      <td>0</td>\n",
       "      <td>0</td>\n",
       "      <td>0</td>\n",
       "      <td>No</td>\n",
       "    </tr>\n",
       "    <tr>\n",
       "      <th>2</th>\n",
       "      <td>4.262962e+12</td>\n",
       "      <td>5642549</td>\n",
       "      <td>F</td>\n",
       "      <td>2016-04-29T16:19:04Z</td>\n",
       "      <td>2016-04-29T00:00:00Z</td>\n",
       "      <td>62</td>\n",
       "      <td>MATA DA PRAIA</td>\n",
       "      <td>0</td>\n",
       "      <td>0</td>\n",
       "      <td>0</td>\n",
       "      <td>0</td>\n",
       "      <td>0</td>\n",
       "      <td>0</td>\n",
       "      <td>No</td>\n",
       "    </tr>\n",
       "    <tr>\n",
       "      <th>3</th>\n",
       "      <td>8.679512e+11</td>\n",
       "      <td>5642828</td>\n",
       "      <td>F</td>\n",
       "      <td>2016-04-29T17:29:31Z</td>\n",
       "      <td>2016-04-29T00:00:00Z</td>\n",
       "      <td>8</td>\n",
       "      <td>PONTAL DE CAMBURI</td>\n",
       "      <td>0</td>\n",
       "      <td>0</td>\n",
       "      <td>0</td>\n",
       "      <td>0</td>\n",
       "      <td>0</td>\n",
       "      <td>0</td>\n",
       "      <td>No</td>\n",
       "    </tr>\n",
       "    <tr>\n",
       "      <th>4</th>\n",
       "      <td>8.841186e+12</td>\n",
       "      <td>5642494</td>\n",
       "      <td>F</td>\n",
       "      <td>2016-04-29T16:07:23Z</td>\n",
       "      <td>2016-04-29T00:00:00Z</td>\n",
       "      <td>56</td>\n",
       "      <td>JARDIM DA PENHA</td>\n",
       "      <td>0</td>\n",
       "      <td>1</td>\n",
       "      <td>1</td>\n",
       "      <td>0</td>\n",
       "      <td>0</td>\n",
       "      <td>0</td>\n",
       "      <td>No</td>\n",
       "    </tr>\n",
       "    <tr>\n",
       "      <th>5</th>\n",
       "      <td>9.598513e+13</td>\n",
       "      <td>5626772</td>\n",
       "      <td>F</td>\n",
       "      <td>2016-04-27T08:36:51Z</td>\n",
       "      <td>2016-04-29T00:00:00Z</td>\n",
       "      <td>76</td>\n",
       "      <td>REPÚBLICA</td>\n",
       "      <td>0</td>\n",
       "      <td>1</td>\n",
       "      <td>0</td>\n",
       "      <td>0</td>\n",
       "      <td>0</td>\n",
       "      <td>0</td>\n",
       "      <td>No</td>\n",
       "    </tr>\n",
       "  </tbody>\n",
       "</table>\n",
       "</div>"
      ],
      "text/plain": [
       "     patient_Id  appointment_Id Gender         Scheduled_Day  \\\n",
       "0  2.987250e+13         5642903      F  2016-04-29T18:38:08Z   \n",
       "1  5.589978e+14         5642503      M  2016-04-29T16:08:27Z   \n",
       "2  4.262962e+12         5642549      F  2016-04-29T16:19:04Z   \n",
       "3  8.679512e+11         5642828      F  2016-04-29T17:29:31Z   \n",
       "4  8.841186e+12         5642494      F  2016-04-29T16:07:23Z   \n",
       "5  9.598513e+13         5626772      F  2016-04-27T08:36:51Z   \n",
       "\n",
       "        Appointment_Day  Age      Neighbourhood  Scholarship  hypertension  \\\n",
       "0  2016-04-29T00:00:00Z   62    JARDIM DA PENHA            0             1   \n",
       "1  2016-04-29T00:00:00Z   56    JARDIM DA PENHA            0             0   \n",
       "2  2016-04-29T00:00:00Z   62      MATA DA PRAIA            0             0   \n",
       "3  2016-04-29T00:00:00Z    8  PONTAL DE CAMBURI            0             0   \n",
       "4  2016-04-29T00:00:00Z   56    JARDIM DA PENHA            0             1   \n",
       "5  2016-04-29T00:00:00Z   76          REPÚBLICA            0             1   \n",
       "\n",
       "   Diabetes  Aalcoholism  Handicap  Sms_received No_show  \n",
       "0         0            0         0             0      No  \n",
       "1         0            0         0             0      No  \n",
       "2         0            0         0             0      No  \n",
       "3         0            0         0             0      No  \n",
       "4         1            0         0             0      No  \n",
       "5         0            0         0             0      No  "
      ]
     },
     "execution_count": 6,
     "metadata": {},
     "output_type": "execute_result"
    }
   ],
   "source": [
    "df.head(6)"
   ]
  },
  {
   "cell_type": "code",
   "execution_count": 7,
   "metadata": {},
   "outputs": [
    {
     "name": "stdout",
     "output_type": "stream",
     "text": [
      "<class 'pandas.core.frame.DataFrame'>\n",
      "RangeIndex: 110527 entries, 0 to 110526\n",
      "Data columns (total 14 columns):\n",
      " #   Column           Non-Null Count   Dtype  \n",
      "---  ------           --------------   -----  \n",
      " 0   patient_Id       110527 non-null  float64\n",
      " 1   appointment_Id   110527 non-null  int64  \n",
      " 2   Gender           110527 non-null  object \n",
      " 3   Scheduled_Day    110527 non-null  object \n",
      " 4   Appointment_Day  110527 non-null  object \n",
      " 5   Age              110527 non-null  int64  \n",
      " 6   Neighbourhood    110527 non-null  object \n",
      " 7   Scholarship      110527 non-null  int64  \n",
      " 8   hypertension     110527 non-null  int64  \n",
      " 9   Diabetes         110527 non-null  int64  \n",
      " 10  Aalcoholism      110527 non-null  int64  \n",
      " 11  Handicap         110527 non-null  int64  \n",
      " 12  Sms_received     110527 non-null  int64  \n",
      " 13  No_show          110527 non-null  object \n",
      "dtypes: float64(1), int64(8), object(5)\n",
      "memory usage: 11.8+ MB\n"
     ]
    }
   ],
   "source": [
    "#anthor view of the dataset\n",
    "df.info()"
   ]
  },
  {
   "cell_type": "markdown",
   "metadata": {},
   "source": [
    "**There are some problems in the dataset like** :\n",
    "1. The patient_id data type is float but should be int.\n",
    "2. The scheduled_day and appointment_day columns type should be changed to datetime.\n",
    "3. The appointment_day has no hour specified (it equals to 00:00:00)."
   ]
  },
  {
   "cell_type": "markdown",
   "metadata": {},
   "source": [
    "- To solve the first problem :\n"
   ]
  },
  {
   "cell_type": "code",
   "execution_count": 8,
   "metadata": {},
   "outputs": [
    {
     "name": "stdout",
     "output_type": "stream",
     "text": [
      "There are 5 patients_ids that are not integers\n"
     ]
    },
    {
     "data": {
      "text/html": [
       "<div>\n",
       "<style scoped>\n",
       "    .dataframe tbody tr th:only-of-type {\n",
       "        vertical-align: middle;\n",
       "    }\n",
       "\n",
       "    .dataframe tbody tr th {\n",
       "        vertical-align: top;\n",
       "    }\n",
       "\n",
       "    .dataframe thead th {\n",
       "        text-align: right;\n",
       "    }\n",
       "</style>\n",
       "<table border=\"1\" class=\"dataframe\">\n",
       "  <thead>\n",
       "    <tr style=\"text-align: right;\">\n",
       "      <th></th>\n",
       "      <th>patient_Id</th>\n",
       "      <th>appointment_Id</th>\n",
       "      <th>Gender</th>\n",
       "      <th>Scheduled_Day</th>\n",
       "      <th>Appointment_Day</th>\n",
       "      <th>Age</th>\n",
       "      <th>Neighbourhood</th>\n",
       "      <th>Scholarship</th>\n",
       "      <th>hypertension</th>\n",
       "      <th>Diabetes</th>\n",
       "      <th>Aalcoholism</th>\n",
       "      <th>Handicap</th>\n",
       "      <th>Sms_received</th>\n",
       "      <th>No_show</th>\n",
       "    </tr>\n",
       "  </thead>\n",
       "  <tbody>\n",
       "    <tr>\n",
       "      <th>3950</th>\n",
       "      <td>93779.52927</td>\n",
       "      <td>5712759</td>\n",
       "      <td>F</td>\n",
       "      <td>2016-05-18T09:12:29Z</td>\n",
       "      <td>2016-05-18T00:00:00Z</td>\n",
       "      <td>33</td>\n",
       "      <td>CENTRO</td>\n",
       "      <td>0</td>\n",
       "      <td>0</td>\n",
       "      <td>0</td>\n",
       "      <td>0</td>\n",
       "      <td>0</td>\n",
       "      <td>0</td>\n",
       "      <td>No</td>\n",
       "    </tr>\n",
       "    <tr>\n",
       "      <th>73228</th>\n",
       "      <td>537615.28476</td>\n",
       "      <td>5637728</td>\n",
       "      <td>F</td>\n",
       "      <td>2016-04-29T07:19:57Z</td>\n",
       "      <td>2016-05-06T00:00:00Z</td>\n",
       "      <td>14</td>\n",
       "      <td>FORTE SÃO JOÃO</td>\n",
       "      <td>0</td>\n",
       "      <td>0</td>\n",
       "      <td>0</td>\n",
       "      <td>0</td>\n",
       "      <td>0</td>\n",
       "      <td>1</td>\n",
       "      <td>No</td>\n",
       "    </tr>\n",
       "    <tr>\n",
       "      <th>73303</th>\n",
       "      <td>141724.16655</td>\n",
       "      <td>5637648</td>\n",
       "      <td>M</td>\n",
       "      <td>2016-04-29T07:13:36Z</td>\n",
       "      <td>2016-05-02T00:00:00Z</td>\n",
       "      <td>12</td>\n",
       "      <td>FORTE SÃO JOÃO</td>\n",
       "      <td>0</td>\n",
       "      <td>0</td>\n",
       "      <td>0</td>\n",
       "      <td>0</td>\n",
       "      <td>0</td>\n",
       "      <td>0</td>\n",
       "      <td>No</td>\n",
       "    </tr>\n",
       "    <tr>\n",
       "      <th>100517</th>\n",
       "      <td>39217.84439</td>\n",
       "      <td>5751990</td>\n",
       "      <td>F</td>\n",
       "      <td>2016-05-31T10:56:41Z</td>\n",
       "      <td>2016-06-03T00:00:00Z</td>\n",
       "      <td>44</td>\n",
       "      <td>PRAIA DO SUÁ</td>\n",
       "      <td>0</td>\n",
       "      <td>0</td>\n",
       "      <td>0</td>\n",
       "      <td>0</td>\n",
       "      <td>0</td>\n",
       "      <td>0</td>\n",
       "      <td>No</td>\n",
       "    </tr>\n",
       "    <tr>\n",
       "      <th>105430</th>\n",
       "      <td>43741.75652</td>\n",
       "      <td>5760144</td>\n",
       "      <td>M</td>\n",
       "      <td>2016-06-01T14:22:58Z</td>\n",
       "      <td>2016-06-01T00:00:00Z</td>\n",
       "      <td>39</td>\n",
       "      <td>MARIA ORTIZ</td>\n",
       "      <td>0</td>\n",
       "      <td>0</td>\n",
       "      <td>1</td>\n",
       "      <td>0</td>\n",
       "      <td>0</td>\n",
       "      <td>0</td>\n",
       "      <td>No</td>\n",
       "    </tr>\n",
       "  </tbody>\n",
       "</table>\n",
       "</div>"
      ],
      "text/plain": [
       "          patient_Id  appointment_Id Gender         Scheduled_Day  \\\n",
       "3950     93779.52927         5712759      F  2016-05-18T09:12:29Z   \n",
       "73228   537615.28476         5637728      F  2016-04-29T07:19:57Z   \n",
       "73303   141724.16655         5637648      M  2016-04-29T07:13:36Z   \n",
       "100517   39217.84439         5751990      F  2016-05-31T10:56:41Z   \n",
       "105430   43741.75652         5760144      M  2016-06-01T14:22:58Z   \n",
       "\n",
       "             Appointment_Day  Age   Neighbourhood  Scholarship  hypertension  \\\n",
       "3950    2016-05-18T00:00:00Z   33          CENTRO            0             0   \n",
       "73228   2016-05-06T00:00:00Z   14  FORTE SÃO JOÃO            0             0   \n",
       "73303   2016-05-02T00:00:00Z   12  FORTE SÃO JOÃO            0             0   \n",
       "100517  2016-06-03T00:00:00Z   44    PRAIA DO SUÁ            0             0   \n",
       "105430  2016-06-01T00:00:00Z   39     MARIA ORTIZ            0             0   \n",
       "\n",
       "        Diabetes  Aalcoholism  Handicap  Sms_received No_show  \n",
       "3950           0            0         0             0      No  \n",
       "73228          0            0         0             1      No  \n",
       "73303          0            0         0             0      No  \n",
       "100517         0            0         0             0      No  \n",
       "105430         1            0         0             0      No  "
      ]
     },
     "execution_count": 8,
     "metadata": {},
     "output_type": "execute_result"
    }
   ],
   "source": [
    "# Check how many patients_ids are not integers\n",
    "non_int_patient_Ids = df[~ df.patient_Id.apply(lambda x: x.is_integer())]\n",
    "print('There are {} patients_ids that are not integers'.format(len(non_int_patient_Ids)))\n",
    "non_int_patient_Ids"
   ]
  },
  {
   "cell_type": "markdown",
   "metadata": {},
   "source": [
    "It appears that the only 5 float patient ids are mistakes. Once the decimal part is shortened, I'll see if they're unique identifiers. If that's the case, I'll truncate their decimal parts and keep them in the dataset."
   ]
  },
  {
   "cell_type": "code",
   "execution_count": 9,
   "metadata": {},
   "outputs": [
    {
     "name": "stdout",
     "output_type": "stream",
     "text": [
      "Patient Id == 93779 does not exist.\n",
      "Patient Id == 537615 does not exist.\n",
      "Patient Id == 141724 does not exist.\n",
      "Patient Id == 39217 does not exist.\n",
      "Patient Id == 43741 does not exist.\n"
     ]
    }
   ],
   "source": [
    "# Extract float patient_ids \n",
    "patient_Ids = [93779.52927, 537615.28476, 141724.16655, 39217.84439, 43741.75652]\n",
    "    \n",
    "# Convert all float patient_ids to int (by truncate the decimal part)\n",
    "for V in range(len(patient_Ids)):\n",
    "    patient_Ids[V] = int(patient_Ids[V])\n",
    "    if df.query('patient_Id == {}'.format(patient_Ids[V])).empty:\n",
    "        print('Patient Id == {} does not exist.'.format(patient_Ids[V]))\n",
    "    else:\n",
    "        print('Patient Id == {}  exists.'.format(patient_Ids[V]))"
   ]
  },
  {
   "cell_type": "code",
   "execution_count": 10,
   "metadata": {
    "scrolled": true
   },
   "outputs": [
    {
     "name": "stdout",
     "output_type": "stream",
     "text": [
      "<class 'pandas.core.frame.DataFrame'>\n",
      "RangeIndex: 110527 entries, 0 to 110526\n",
      "Data columns (total 14 columns):\n",
      " #   Column           Non-Null Count   Dtype \n",
      "---  ------           --------------   ----- \n",
      " 0   patient_Id       110527 non-null  int64 \n",
      " 1   appointment_Id   110527 non-null  int64 \n",
      " 2   Gender           110527 non-null  object\n",
      " 3   Scheduled_Day    110527 non-null  object\n",
      " 4   Appointment_Day  110527 non-null  object\n",
      " 5   Age              110527 non-null  int64 \n",
      " 6   Neighbourhood    110527 non-null  object\n",
      " 7   Scholarship      110527 non-null  int64 \n",
      " 8   hypertension     110527 non-null  int64 \n",
      " 9   Diabetes         110527 non-null  int64 \n",
      " 10  Aalcoholism      110527 non-null  int64 \n",
      " 11  Handicap         110527 non-null  int64 \n",
      " 12  Sms_received     110527 non-null  int64 \n",
      " 13  No_show          110527 non-null  object\n",
      "dtypes: int64(9), object(5)\n",
      "memory usage: 11.8+ MB\n"
     ]
    }
   ],
   "source": [
    "# Convert patient_id  into int\n",
    "df['patient_Id'] = df['patient_Id'].astype('int64')\n",
    "\n",
    "df.info()\n"
   ]
  },
  {
   "cell_type": "markdown",
   "metadata": {},
   "source": [
    "** the second and third problems"
   ]
  },
  {
   "cell_type": "code",
   "execution_count": 11,
   "metadata": {},
   "outputs": [
    {
     "name": "stdout",
     "output_type": "stream",
     "text": [
      "<class 'pandas.core.frame.DataFrame'>\n",
      "RangeIndex: 110527 entries, 0 to 110526\n",
      "Data columns (total 14 columns):\n",
      " #   Column           Non-Null Count   Dtype         \n",
      "---  ------           --------------   -----         \n",
      " 0   patient_Id       110527 non-null  int64         \n",
      " 1   appointment_Id   110527 non-null  int64         \n",
      " 2   Gender           110527 non-null  object        \n",
      " 3   Scheduled_Day    110527 non-null  datetime64[ns]\n",
      " 4   Appointment_Day  110527 non-null  datetime64[ns]\n",
      " 5   Age              110527 non-null  int64         \n",
      " 6   Neighbourhood    110527 non-null  object        \n",
      " 7   Scholarship      110527 non-null  int64         \n",
      " 8   hypertension     110527 non-null  int64         \n",
      " 9   Diabetes         110527 non-null  int64         \n",
      " 10  Aalcoholism      110527 non-null  int64         \n",
      " 11  Handicap         110527 non-null  int64         \n",
      " 12  Sms_received     110527 non-null  int64         \n",
      " 13  No_show          110527 non-null  object        \n",
      "dtypes: datetime64[ns](2), int64(9), object(3)\n",
      "memory usage: 11.8+ MB\n"
     ]
    }
   ],
   "source": [
    "# Convert columns types\n",
    "df['Scheduled_Day'] = pd.to_datetime(df['Scheduled_Day']).dt.date.astype('datetime64[ns]')\n",
    "df['Appointment_Day'] = pd.to_datetime(df['Appointment_Day']).dt.date.astype('datetime64[ns]')\n",
    "\n",
    "# Check if the type is now datetime\n",
    "df.info()"
   ]
  },
  {
   "cell_type": "code",
   "execution_count": 12,
   "metadata": {},
   "outputs": [
    {
     "data": {
      "text/html": [
       "<div>\n",
       "<style scoped>\n",
       "    .dataframe tbody tr th:only-of-type {\n",
       "        vertical-align: middle;\n",
       "    }\n",
       "\n",
       "    .dataframe tbody tr th {\n",
       "        vertical-align: top;\n",
       "    }\n",
       "\n",
       "    .dataframe thead th {\n",
       "        text-align: right;\n",
       "    }\n",
       "</style>\n",
       "<table border=\"1\" class=\"dataframe\">\n",
       "  <thead>\n",
       "    <tr style=\"text-align: right;\">\n",
       "      <th></th>\n",
       "      <th>patient_Id</th>\n",
       "      <th>appointment_Id</th>\n",
       "      <th>Gender</th>\n",
       "      <th>Scheduled_Day</th>\n",
       "      <th>Appointment_Day</th>\n",
       "      <th>Age</th>\n",
       "      <th>Neighbourhood</th>\n",
       "      <th>Scholarship</th>\n",
       "      <th>hypertension</th>\n",
       "      <th>Diabetes</th>\n",
       "      <th>Aalcoholism</th>\n",
       "      <th>Handicap</th>\n",
       "      <th>Sms_received</th>\n",
       "      <th>No_show</th>\n",
       "    </tr>\n",
       "  </thead>\n",
       "  <tbody>\n",
       "    <tr>\n",
       "      <th>0</th>\n",
       "      <td>29872499824296</td>\n",
       "      <td>5642903</td>\n",
       "      <td>F</td>\n",
       "      <td>2016-04-29</td>\n",
       "      <td>2016-04-29</td>\n",
       "      <td>62</td>\n",
       "      <td>JARDIM DA PENHA</td>\n",
       "      <td>0</td>\n",
       "      <td>1</td>\n",
       "      <td>0</td>\n",
       "      <td>0</td>\n",
       "      <td>0</td>\n",
       "      <td>0</td>\n",
       "      <td>No</td>\n",
       "    </tr>\n",
       "    <tr>\n",
       "      <th>1</th>\n",
       "      <td>558997776694438</td>\n",
       "      <td>5642503</td>\n",
       "      <td>M</td>\n",
       "      <td>2016-04-29</td>\n",
       "      <td>2016-04-29</td>\n",
       "      <td>56</td>\n",
       "      <td>JARDIM DA PENHA</td>\n",
       "      <td>0</td>\n",
       "      <td>0</td>\n",
       "      <td>0</td>\n",
       "      <td>0</td>\n",
       "      <td>0</td>\n",
       "      <td>0</td>\n",
       "      <td>No</td>\n",
       "    </tr>\n",
       "    <tr>\n",
       "      <th>2</th>\n",
       "      <td>4262962299951</td>\n",
       "      <td>5642549</td>\n",
       "      <td>F</td>\n",
       "      <td>2016-04-29</td>\n",
       "      <td>2016-04-29</td>\n",
       "      <td>62</td>\n",
       "      <td>MATA DA PRAIA</td>\n",
       "      <td>0</td>\n",
       "      <td>0</td>\n",
       "      <td>0</td>\n",
       "      <td>0</td>\n",
       "      <td>0</td>\n",
       "      <td>0</td>\n",
       "      <td>No</td>\n",
       "    </tr>\n",
       "    <tr>\n",
       "      <th>3</th>\n",
       "      <td>867951213174</td>\n",
       "      <td>5642828</td>\n",
       "      <td>F</td>\n",
       "      <td>2016-04-29</td>\n",
       "      <td>2016-04-29</td>\n",
       "      <td>8</td>\n",
       "      <td>PONTAL DE CAMBURI</td>\n",
       "      <td>0</td>\n",
       "      <td>0</td>\n",
       "      <td>0</td>\n",
       "      <td>0</td>\n",
       "      <td>0</td>\n",
       "      <td>0</td>\n",
       "      <td>No</td>\n",
       "    </tr>\n",
       "    <tr>\n",
       "      <th>4</th>\n",
       "      <td>8841186448183</td>\n",
       "      <td>5642494</td>\n",
       "      <td>F</td>\n",
       "      <td>2016-04-29</td>\n",
       "      <td>2016-04-29</td>\n",
       "      <td>56</td>\n",
       "      <td>JARDIM DA PENHA</td>\n",
       "      <td>0</td>\n",
       "      <td>1</td>\n",
       "      <td>1</td>\n",
       "      <td>0</td>\n",
       "      <td>0</td>\n",
       "      <td>0</td>\n",
       "      <td>No</td>\n",
       "    </tr>\n",
       "  </tbody>\n",
       "</table>\n",
       "</div>"
      ],
      "text/plain": [
       "        patient_Id  appointment_Id Gender Scheduled_Day Appointment_Day  Age  \\\n",
       "0   29872499824296         5642903      F    2016-04-29      2016-04-29   62   \n",
       "1  558997776694438         5642503      M    2016-04-29      2016-04-29   56   \n",
       "2    4262962299951         5642549      F    2016-04-29      2016-04-29   62   \n",
       "3     867951213174         5642828      F    2016-04-29      2016-04-29    8   \n",
       "4    8841186448183         5642494      F    2016-04-29      2016-04-29   56   \n",
       "\n",
       "       Neighbourhood  Scholarship  hypertension  Diabetes  Aalcoholism  \\\n",
       "0    JARDIM DA PENHA            0             1         0            0   \n",
       "1    JARDIM DA PENHA            0             0         0            0   \n",
       "2      MATA DA PRAIA            0             0         0            0   \n",
       "3  PONTAL DE CAMBURI            0             0         0            0   \n",
       "4    JARDIM DA PENHA            0             1         1            0   \n",
       "\n",
       "   Handicap  Sms_received No_show  \n",
       "0         0             0      No  \n",
       "1         0             0      No  \n",
       "2         0             0      No  \n",
       "3         0             0      No  \n",
       "4         0             0      No  "
      ]
     },
     "execution_count": 12,
     "metadata": {},
     "output_type": "execute_result"
    }
   ],
   "source": [
    "df.head()"
   ]
  },
  {
   "cell_type": "markdown",
   "metadata": {},
   "source": [
    " - i want to add some stuff into the dataset to make it more analystic\n",
    " * It could be interesting to know how much time elapsed between a scheduled visit and the actual visit. There is no such data column, however the scheduled day and appointment day columns can be used to determine it. \n",
    " * i will Create a new column called days_of_awaiting_time"
   ]
  },
  {
   "cell_type": "code",
   "execution_count": 13,
   "metadata": {},
   "outputs": [
    {
     "name": "stdout",
     "output_type": "stream",
     "text": [
      "<class 'pandas.core.frame.DataFrame'>\n",
      "RangeIndex: 110527 entries, 0 to 110526\n",
      "Data columns (total 15 columns):\n",
      " #   Column                 Non-Null Count   Dtype         \n",
      "---  ------                 --------------   -----         \n",
      " 0   patient_Id             110527 non-null  int64         \n",
      " 1   appointment_Id         110527 non-null  int64         \n",
      " 2   Gender                 110527 non-null  object        \n",
      " 3   Scheduled_Day          110527 non-null  datetime64[ns]\n",
      " 4   Appointment_Day        110527 non-null  datetime64[ns]\n",
      " 5   Age                    110527 non-null  int64         \n",
      " 6   Neighbourhood          110527 non-null  object        \n",
      " 7   Scholarship            110527 non-null  int64         \n",
      " 8   hypertension           110527 non-null  int64         \n",
      " 9   Diabetes               110527 non-null  int64         \n",
      " 10  Aalcoholism            110527 non-null  int64         \n",
      " 11  Handicap               110527 non-null  int64         \n",
      " 12  Sms_received           110527 non-null  int64         \n",
      " 13  No_show                110527 non-null  object        \n",
      " 14  days_of_awaiting_time  110527 non-null  int64         \n",
      "dtypes: datetime64[ns](2), int64(10), object(3)\n",
      "memory usage: 12.6+ MB\n"
     ]
    }
   ],
   "source": [
    "# Create days of awaiting time column\n",
    "df['days_of_awaiting_time'] = (df.Appointment_Day - df.Scheduled_Day).dt.days\n",
    "# and convert timedelta to int\n",
    "df.info()"
   ]
  },
  {
   "cell_type": "code",
   "execution_count": 14,
   "metadata": {
    "scrolled": true
   },
   "outputs": [
    {
     "data": {
      "text/html": [
       "<div>\n",
       "<style scoped>\n",
       "    .dataframe tbody tr th:only-of-type {\n",
       "        vertical-align: middle;\n",
       "    }\n",
       "\n",
       "    .dataframe tbody tr th {\n",
       "        vertical-align: top;\n",
       "    }\n",
       "\n",
       "    .dataframe thead th {\n",
       "        text-align: right;\n",
       "    }\n",
       "</style>\n",
       "<table border=\"1\" class=\"dataframe\">\n",
       "  <thead>\n",
       "    <tr style=\"text-align: right;\">\n",
       "      <th></th>\n",
       "      <th>patient_Id</th>\n",
       "      <th>appointment_Id</th>\n",
       "      <th>Age</th>\n",
       "      <th>Scholarship</th>\n",
       "      <th>hypertension</th>\n",
       "      <th>Diabetes</th>\n",
       "      <th>Aalcoholism</th>\n",
       "      <th>Handicap</th>\n",
       "      <th>Sms_received</th>\n",
       "      <th>days_of_awaiting_time</th>\n",
       "    </tr>\n",
       "  </thead>\n",
       "  <tbody>\n",
       "    <tr>\n",
       "      <th>count</th>\n",
       "      <td>1.105270e+05</td>\n",
       "      <td>1.105270e+05</td>\n",
       "      <td>110527.000000</td>\n",
       "      <td>110527.000000</td>\n",
       "      <td>110527.000000</td>\n",
       "      <td>110527.000000</td>\n",
       "      <td>110527.000000</td>\n",
       "      <td>110527.000000</td>\n",
       "      <td>110527.000000</td>\n",
       "      <td>110527.000000</td>\n",
       "    </tr>\n",
       "    <tr>\n",
       "      <th>mean</th>\n",
       "      <td>1.474963e+14</td>\n",
       "      <td>5.675305e+06</td>\n",
       "      <td>37.088874</td>\n",
       "      <td>0.098266</td>\n",
       "      <td>0.197246</td>\n",
       "      <td>0.071865</td>\n",
       "      <td>0.030400</td>\n",
       "      <td>0.022248</td>\n",
       "      <td>0.321026</td>\n",
       "      <td>10.183702</td>\n",
       "    </tr>\n",
       "    <tr>\n",
       "      <th>std</th>\n",
       "      <td>2.560949e+14</td>\n",
       "      <td>7.129575e+04</td>\n",
       "      <td>23.110205</td>\n",
       "      <td>0.297675</td>\n",
       "      <td>0.397921</td>\n",
       "      <td>0.258265</td>\n",
       "      <td>0.171686</td>\n",
       "      <td>0.161543</td>\n",
       "      <td>0.466873</td>\n",
       "      <td>15.254996</td>\n",
       "    </tr>\n",
       "    <tr>\n",
       "      <th>min</th>\n",
       "      <td>3.921700e+04</td>\n",
       "      <td>5.030230e+06</td>\n",
       "      <td>-1.000000</td>\n",
       "      <td>0.000000</td>\n",
       "      <td>0.000000</td>\n",
       "      <td>0.000000</td>\n",
       "      <td>0.000000</td>\n",
       "      <td>0.000000</td>\n",
       "      <td>0.000000</td>\n",
       "      <td>-6.000000</td>\n",
       "    </tr>\n",
       "    <tr>\n",
       "      <th>25%</th>\n",
       "      <td>4.172614e+12</td>\n",
       "      <td>5.640286e+06</td>\n",
       "      <td>18.000000</td>\n",
       "      <td>0.000000</td>\n",
       "      <td>0.000000</td>\n",
       "      <td>0.000000</td>\n",
       "      <td>0.000000</td>\n",
       "      <td>0.000000</td>\n",
       "      <td>0.000000</td>\n",
       "      <td>0.000000</td>\n",
       "    </tr>\n",
       "    <tr>\n",
       "      <th>50%</th>\n",
       "      <td>3.173184e+13</td>\n",
       "      <td>5.680573e+06</td>\n",
       "      <td>37.000000</td>\n",
       "      <td>0.000000</td>\n",
       "      <td>0.000000</td>\n",
       "      <td>0.000000</td>\n",
       "      <td>0.000000</td>\n",
       "      <td>0.000000</td>\n",
       "      <td>0.000000</td>\n",
       "      <td>4.000000</td>\n",
       "    </tr>\n",
       "    <tr>\n",
       "      <th>75%</th>\n",
       "      <td>9.439172e+13</td>\n",
       "      <td>5.725524e+06</td>\n",
       "      <td>55.000000</td>\n",
       "      <td>0.000000</td>\n",
       "      <td>0.000000</td>\n",
       "      <td>0.000000</td>\n",
       "      <td>0.000000</td>\n",
       "      <td>0.000000</td>\n",
       "      <td>1.000000</td>\n",
       "      <td>15.000000</td>\n",
       "    </tr>\n",
       "    <tr>\n",
       "      <th>max</th>\n",
       "      <td>9.999816e+14</td>\n",
       "      <td>5.790484e+06</td>\n",
       "      <td>115.000000</td>\n",
       "      <td>1.000000</td>\n",
       "      <td>1.000000</td>\n",
       "      <td>1.000000</td>\n",
       "      <td>1.000000</td>\n",
       "      <td>4.000000</td>\n",
       "      <td>1.000000</td>\n",
       "      <td>179.000000</td>\n",
       "    </tr>\n",
       "  </tbody>\n",
       "</table>\n",
       "</div>"
      ],
      "text/plain": [
       "         patient_Id  appointment_Id            Age    Scholarship  \\\n",
       "count  1.105270e+05    1.105270e+05  110527.000000  110527.000000   \n",
       "mean   1.474963e+14    5.675305e+06      37.088874       0.098266   \n",
       "std    2.560949e+14    7.129575e+04      23.110205       0.297675   \n",
       "min    3.921700e+04    5.030230e+06      -1.000000       0.000000   \n",
       "25%    4.172614e+12    5.640286e+06      18.000000       0.000000   \n",
       "50%    3.173184e+13    5.680573e+06      37.000000       0.000000   \n",
       "75%    9.439172e+13    5.725524e+06      55.000000       0.000000   \n",
       "max    9.999816e+14    5.790484e+06     115.000000       1.000000   \n",
       "\n",
       "        hypertension       Diabetes    Aalcoholism       Handicap  \\\n",
       "count  110527.000000  110527.000000  110527.000000  110527.000000   \n",
       "mean        0.197246       0.071865       0.030400       0.022248   \n",
       "std         0.397921       0.258265       0.171686       0.161543   \n",
       "min         0.000000       0.000000       0.000000       0.000000   \n",
       "25%         0.000000       0.000000       0.000000       0.000000   \n",
       "50%         0.000000       0.000000       0.000000       0.000000   \n",
       "75%         0.000000       0.000000       0.000000       0.000000   \n",
       "max         1.000000       1.000000       1.000000       4.000000   \n",
       "\n",
       "        Sms_received  days_of_awaiting_time  \n",
       "count  110527.000000          110527.000000  \n",
       "mean        0.321026              10.183702  \n",
       "std         0.466873              15.254996  \n",
       "min         0.000000              -6.000000  \n",
       "25%         0.000000               0.000000  \n",
       "50%         0.000000               4.000000  \n",
       "75%         1.000000              15.000000  \n",
       "max         1.000000             179.000000  "
      ]
     },
     "execution_count": 14,
     "metadata": {},
     "output_type": "execute_result"
    }
   ],
   "source": [
    "df.describe()\n"
   ]
  },
  {
   "cell_type": "code",
   "execution_count": 15,
   "metadata": {},
   "outputs": [
    {
     "data": {
      "image/png": "[encoded data removed]",
      "text/plain": [
       "<Figure size 1008x864 with 12 Axes>"
      ]
     },
     "metadata": {
      "needs_background": "light"
     },
     "output_type": "display_data"
    }
   ],
   "source": [
    "df.hist(figsize=(14,12));"
   ]
  },
  {
   "cell_type": "markdown",
   "metadata": {
    "collapsed": true
   },
   "source": [
    " ### observations: \n",
    "1. The patients are on average 37 years old. A quarter of the patients are under the age of 18, and the majority are under the age of 55. In the dataset, there is a problem with the data range. There are some very elderly people, and the age value cannot be less than 0. To be looked into.\n",
    "\n",
    "2. In contrast to the other categorical variables in this dataset, handicap is represented by four classes. This could be the consequence of an error, or it could fall into one of four categories. Both approaches have the potential to be valid, and this should be checked by a subject matter expert.\n",
    "\n",
    "3. sms received: 75% of patients received a text message reminding them of their appointment.\n",
    "\n",
    "4. awaiting time days: Patients waited an average of 10 days for an appointment. 50% of patients waited up to 4 days, and 75% waited up to 7 days."
   ]
  },
  {
   "cell_type": "markdown",
   "metadata": {},
   "source": [
    "## Histogram observations\n",
    "- age: There are many very young people in the dataset but in general the patients age is distributed evenly and the number of patients goes drastricly down for patients older than 60 years.\n",
    "- Alcoholism: Most of the patients are not alcoholics.\n",
    "- Diabetes: Most of the patients are not diabetes but more than alcoholics.\n",
    "- Handicap: There are for handicap categories with most of the people not being handicapted.\n",
    "- Hypertension: Most patients do not have hypertension diagnosed."
   ]
  },
  {
   "cell_type": "markdown",
   "metadata": {},
   "source": [
    "### Scheduled_Day\n"
   ]
  },
  {
   "cell_type": "code",
   "execution_count": 16,
   "metadata": {},
   "outputs": [
    {
     "name": "stdout",
     "output_type": "stream",
     "text": [
      "Unique Values in Scheduled_Day ara : ['2016-04-29T00:00:00.000000000' '2016-04-27T00:00:00.000000000'\n",
      " '2016-04-26T00:00:00.000000000' '2016-04-28T00:00:00.000000000'\n",
      " '2016-04-25T00:00:00.000000000' '2016-04-20T00:00:00.000000000'\n",
      " '2016-03-31T00:00:00.000000000' '2016-04-19T00:00:00.000000000'\n",
      " '2016-04-06T00:00:00.000000000' '2016-04-18T00:00:00.000000000'\n",
      " '2016-04-11T00:00:00.000000000' '2016-04-12T00:00:00.000000000'\n",
      " '2016-04-15T00:00:00.000000000' '2016-04-01T00:00:00.000000000'\n",
      " '2016-04-05T00:00:00.000000000' '2016-04-08T00:00:00.000000000'\n",
      " '2016-04-14T00:00:00.000000000' '2016-04-13T00:00:00.000000000'\n",
      " '2016-04-07T00:00:00.000000000' '2016-03-17T00:00:00.000000000'\n",
      " '2016-03-30T00:00:00.000000000' '2016-03-29T00:00:00.000000000'\n",
      " '2016-03-18T00:00:00.000000000' '2016-03-28T00:00:00.000000000'\n",
      " '2016-03-04T00:00:00.000000000' '2016-03-15T00:00:00.000000000'\n",
      " '2016-03-14T00:00:00.000000000' '2016-03-21T00:00:00.000000000'\n",
      " '2016-03-23T00:00:00.000000000' '2016-03-22T00:00:00.000000000'\n",
      " '2016-03-16T00:00:00.000000000' '2016-03-10T00:00:00.000000000'\n",
      " '2016-02-29T00:00:00.000000000' '2016-03-08T00:00:00.000000000'\n",
      " '2016-03-07T00:00:00.000000000' '2016-02-24T00:00:00.000000000'\n",
      " '2016-02-22T00:00:00.000000000' '2016-01-29T00:00:00.000000000'\n",
      " '2016-02-23T00:00:00.000000000' '2016-02-05T00:00:00.000000000'\n",
      " '2016-02-11T00:00:00.000000000' '2016-02-02T00:00:00.000000000'\n",
      " '2016-01-05T00:00:00.000000000' '2016-01-11T00:00:00.000000000'\n",
      " '2016-02-26T00:00:00.000000000' '2016-02-19T00:00:00.000000000'\n",
      " '2016-02-17T00:00:00.000000000' '2016-03-03T00:00:00.000000000'\n",
      " '2016-03-02T00:00:00.000000000' '2016-03-09T00:00:00.000000000'\n",
      " '2016-03-01T00:00:00.000000000' '2016-03-19T00:00:00.000000000'\n",
      " '2016-03-11T00:00:00.000000000' '2016-02-16T00:00:00.000000000'\n",
      " '2016-02-25T00:00:00.000000000' '2016-04-09T00:00:00.000000000'\n",
      " '2016-05-24T00:00:00.000000000' '2016-05-25T00:00:00.000000000'\n",
      " '2016-05-31T00:00:00.000000000' '2016-05-17T00:00:00.000000000'\n",
      " '2016-05-30T00:00:00.000000000' '2016-05-12T00:00:00.000000000'\n",
      " '2016-05-19T00:00:00.000000000' '2016-05-10T00:00:00.000000000'\n",
      " '2016-05-02T00:00:00.000000000' '2016-05-16T00:00:00.000000000'\n",
      " '2016-05-04T00:00:00.000000000' '2016-05-13T00:00:00.000000000'\n",
      " '2016-05-20T00:00:00.000000000' '2016-05-05T00:00:00.000000000'\n",
      " '2016-05-18T00:00:00.000000000' '2016-05-06T00:00:00.000000000'\n",
      " '2016-05-09T00:00:00.000000000' '2016-05-03T00:00:00.000000000'\n",
      " '2016-05-11T00:00:00.000000000' '2015-11-10T00:00:00.000000000'\n",
      " '2016-02-18T00:00:00.000000000' '2016-02-03T00:00:00.000000000'\n",
      " '2016-01-14T00:00:00.000000000' '2016-01-21T00:00:00.000000000'\n",
      " '2016-01-28T00:00:00.000000000' '2016-02-01T00:00:00.000000000'\n",
      " '2015-12-14T00:00:00.000000000' '2015-12-08T00:00:00.000000000'\n",
      " '2016-01-07T00:00:00.000000000' '2016-04-30T00:00:00.000000000'\n",
      " '2016-04-16T00:00:00.000000000' '2016-02-04T00:00:00.000000000'\n",
      " '2015-12-03T00:00:00.000000000' '2016-01-04T00:00:00.000000000'\n",
      " '2016-01-13T00:00:00.000000000' '2016-02-12T00:00:00.000000000'\n",
      " '2016-01-20T00:00:00.000000000' '2016-01-22T00:00:00.000000000'\n",
      " '2016-01-25T00:00:00.000000000' '2016-01-27T00:00:00.000000000'\n",
      " '2016-01-19T00:00:00.000000000' '2016-02-15T00:00:00.000000000'\n",
      " '2016-05-14T00:00:00.000000000' '2016-05-07T00:00:00.000000000'\n",
      " '2016-06-02T00:00:00.000000000' '2016-06-03T00:00:00.000000000'\n",
      " '2016-06-01T00:00:00.000000000' '2016-06-06T00:00:00.000000000'\n",
      " '2016-06-07T00:00:00.000000000' '2016-06-08T00:00:00.000000000'\n",
      " '2016-06-04T00:00:00.000000000' '2016-01-26T00:00:00.000000000'\n",
      " '2015-12-07T00:00:00.000000000' '2015-12-15T00:00:00.000000000'\n",
      " '2016-03-05T00:00:00.000000000']\n"
     ]
    }
   ],
   "source": [
    "# Print Unique Values of scheduled day coulmns\n",
    "print(\"Unique Values in Scheduled_Day ara : {}\".format(df.Scheduled_Day.unique()))"
   ]
  },
  {
   "cell_type": "markdown",
   "metadata": {},
   "source": [
    "### Gender"
   ]
  },
  {
   "cell_type": "code",
   "execution_count": 17,
   "metadata": {},
   "outputs": [
    {
     "name": "stdout",
     "output_type": "stream",
     "text": [
      "Unique Values in gender are : ['F' 'M']\n"
     ]
    }
   ],
   "source": [
    "# Print Unique Values\n",
    "print(\"Unique Values in gender are : {}\".format(df.Gender.unique()))"
   ]
  },
  {
   "cell_type": "markdown",
   "metadata": {},
   "source": [
    "### Appointment day"
   ]
  },
  {
   "cell_type": "code",
   "execution_count": 18,
   "metadata": {},
   "outputs": [
    {
     "name": "stdout",
     "output_type": "stream",
     "text": [
      "Unique Values in appointment_day : ['2016-04-29T00:00:00.000000000' '2016-05-03T00:00:00.000000000'\n",
      " '2016-05-10T00:00:00.000000000' '2016-05-17T00:00:00.000000000'\n",
      " '2016-05-24T00:00:00.000000000' '2016-05-31T00:00:00.000000000'\n",
      " '2016-05-02T00:00:00.000000000' '2016-05-30T00:00:00.000000000'\n",
      " '2016-05-16T00:00:00.000000000' '2016-05-04T00:00:00.000000000'\n",
      " '2016-05-19T00:00:00.000000000' '2016-05-12T00:00:00.000000000'\n",
      " '2016-05-06T00:00:00.000000000' '2016-05-20T00:00:00.000000000'\n",
      " '2016-05-05T00:00:00.000000000' '2016-05-13T00:00:00.000000000'\n",
      " '2016-05-09T00:00:00.000000000' '2016-05-25T00:00:00.000000000'\n",
      " '2016-05-11T00:00:00.000000000' '2016-05-18T00:00:00.000000000'\n",
      " '2016-05-14T00:00:00.000000000' '2016-06-02T00:00:00.000000000'\n",
      " '2016-06-03T00:00:00.000000000' '2016-06-06T00:00:00.000000000'\n",
      " '2016-06-07T00:00:00.000000000' '2016-06-01T00:00:00.000000000'\n",
      " '2016-06-08T00:00:00.000000000']\n"
     ]
    }
   ],
   "source": [
    "print(\"Unique Values in appointment_day : {}\".format(df.Appointment_Day.unique()))"
   ]
  },
  {
   "cell_type": "markdown",
   "metadata": {},
   "source": [
    "### Age"
   ]
  },
  {
   "cell_type": "code",
   "execution_count": 19,
   "metadata": {},
   "outputs": [
    {
     "name": "stdout",
     "output_type": "stream",
     "text": [
      "Unique Values in age: [ 62  56   8  76  23  39  21  19  30  29  22  28  54  15  50  40  46   4\n",
      "  13  65  45  51  32  12  61  38  79  18  63  64  85  59  55  71  49  78\n",
      "  31  58  27   6   2  11   7   0   3   1  69  68  60  67  36  10  35  20\n",
      "  26  34  33  16  42   5  47  17  41  44  37  24  66  77  81  70  53  75\n",
      "  73  52  74  43  89  57  14   9  48  83  72  25  80  87  88  84  82  90\n",
      "  94  86  91  98  92  96  93  95  97 102 115 100  99  -1]\n"
     ]
    }
   ],
   "source": [
    "print(\"Unique Values in age: {}\".format(df.Age.unique()))"
   ]
  },
  {
   "cell_type": "markdown",
   "metadata": {},
   "source": [
    "Age value cannot be less than 0 or bigger than 100 . I will remove all records with such values. "
   ]
  },
  {
   "cell_type": "code",
   "execution_count": 20,
   "metadata": {
    "scrolled": true
   },
   "outputs": [
    {
     "name": "stdout",
     "output_type": "stream",
     "text": [
      "Without any change\n",
      "Patients with Age less than -1 : 1\n",
      "Patients with Age equal to 0 : 3539\n",
      "Patients with Age greater than 100 : 7\n",
      "with change\n",
      "Patients with Age less than -1 : 0\n",
      "Patients with Age equal to 0 : 3539\n",
      "Patients with Age greater than 100 : 0\n"
     ]
    }
   ],
   "source": [
    "print('Without any change')\n",
    "print(\"Patients with Age less than -1 : {}\".format(df[df.Age == -1].shape[0]))\n",
    "print(\"Patients with Age equal to 0 : {}\".format(df[df.Age == 0].shape[0]))\n",
    "print(\"Patients with Age greater than 100 : {}\".format(df[df.Age > 100].shape[0]))\n",
    "\n",
    "df = df[(df.Age >= 0) & (df.Age <= 110)]\n",
    "df.Age.value_counts()\n",
    "\n",
    "print('with change')\n",
    "print(\"Patients with Age less than -1 : {}\".format(df[df.Age == -1].shape[0]))\n",
    "print(\"Patients with Age equal to 0 : {}\".format(df[df.Age == 0].shape[0]))\n",
    "print(\"Patients with Age greater than 100 : {}\".format(df[df.Age > 110].shape[0]))"
   ]
  },
  {
   "cell_type": "code",
   "execution_count": 21,
   "metadata": {},
   "outputs": [
    {
     "data": {
      "image/png": "[encoded data removed]",
      "text/plain": [
       "<Figure size 1152x144 with 1 Axes>"
      ]
     },
     "metadata": {
      "needs_background": "light"
     },
     "output_type": "display_data"
    }
   ],
   "source": [
    "plt.figure(figsize=(16,2))\n",
    "plt.xticks(rotation=90)\n",
    "A= sns.boxplot(x=df.Age)"
   ]
  },
  {
   "cell_type": "code",
   "execution_count": 22,
   "metadata": {},
   "outputs": [
    {
     "data": {
      "image/png": "[encoded data removed]",
      "text/plain": [
       "<Figure size 1152x288 with 1 Axes>"
      ]
     },
     "metadata": {
      "needs_background": "light"
     },
     "output_type": "display_data"
    }
   ],
   "source": [
    "plt.figure(figsize=(16,4))\n",
    "plt.xticks(rotation=90)\n",
    "ax = sns.countplot(x=df.Age)\n",
    "ax.set_title(\"appointments by age\")\n",
    "plt.show()"
   ]
  },
  {
   "cell_type": "markdown",
   "metadata": {},
   "source": [
    "### Scholarship"
   ]
  },
  {
   "cell_type": "code",
   "execution_count": 23,
   "metadata": {},
   "outputs": [
    {
     "name": "stdout",
     "output_type": "stream",
     "text": [
      "Unique Values in scholarship : [0 1]\n"
     ]
    }
   ],
   "source": [
    "print(\"Unique Values in scholarship : {}\".format(df.Scholarship.unique()))\n"
   ]
  },
  {
   "cell_type": "markdown",
   "metadata": {},
   "source": [
    "### Diabetes"
   ]
  },
  {
   "cell_type": "code",
   "execution_count": 24,
   "metadata": {},
   "outputs": [
    {
     "name": "stdout",
     "output_type": "stream",
     "text": [
      "Unique Values in Diabetes : [0 1]\n"
     ]
    }
   ],
   "source": [
    "print(\"Unique Values in Diabetes : {}\".format(df.Diabetes.unique()))"
   ]
  },
  {
   "cell_type": "markdown",
   "metadata": {},
   "source": [
    "### Alcoholism"
   ]
  },
  {
   "cell_type": "code",
   "execution_count": 25,
   "metadata": {},
   "outputs": [
    {
     "name": "stdout",
     "output_type": "stream",
     "text": [
      "Unique Values in Aalcoholism : [0 1]\n"
     ]
    }
   ],
   "source": [
    "print(\"Unique Values in Aalcoholism : {}\".format(df.Aalcoholism.unique()))"
   ]
  },
  {
   "cell_type": "markdown",
   "metadata": {},
   "source": [
    "### Handicap\n"
   ]
  },
  {
   "cell_type": "code",
   "execution_count": 26,
   "metadata": {},
   "outputs": [
    {
     "name": "stdout",
     "output_type": "stream",
     "text": [
      "Unique Values in Handicap[0 1 2 3 4]\n"
     ]
    }
   ],
   "source": [
    "print(\"Unique Values in Handicap{}\".format(df.Handicap.unique()))\n"
   ]
  },
  {
   "cell_type": "markdown",
   "metadata": {},
   "source": [
    "### days of awaiting time"
   ]
  },
  {
   "cell_type": "code",
   "execution_count": 27,
   "metadata": {},
   "outputs": [
    {
     "name": "stdout",
     "output_type": "stream",
     "text": [
      "Unique Values in Days of awaiting time : [  0   2   3   1   4   9  29  10  23  11  18  17  14  28  24  21  15  16\n",
      "  22  43  30  31  42  32  56  45  46  39  37  38  44  50  60  52  53  65\n",
      "  67  91  66  84  78  87 115 109  63  70  72  57  58  51  59  41  49  73\n",
      "  64  20  33  34   6  35  36  12  13  40  47   8   5   7  25  26  48  27\n",
      "  19  61  55  62 176  54  77  69  83  76  89  81 103  79  68  75  85 112\n",
      "  -1  80  86  98  94 142 155 162 169 104 133 125  96  88  90 151 126 127\n",
      " 111 119  74  71  82 108 110 102 122 101 105  92  97  93 107  95  -6 139\n",
      " 132 179 117 146 123]\n"
     ]
    }
   ],
   "source": [
    "print(\"Unique Values in Days of awaiting time : {}\".format(df.days_of_awaiting_time.unique()))\n"
   ]
  },
  {
   "cell_type": "code",
   "execution_count": 28,
   "metadata": {},
   "outputs": [
    {
     "name": "stdout",
     "output_type": "stream",
     "text": [
      "Before change: -1    4\n",
      "-6    1\n",
      "Name: days_of_awaiting_time, dtype: int64\n",
      "After change: Series([], Name: days_of_awaiting_time, dtype: int64)\n"
     ]
    }
   ],
   "source": [
    "# Awaiting time cannot be less than 0\n",
    "print('Before change: {}'.format(df[(df.days_of_awaiting_time< 0)].days_of_awaiting_time.value_counts()))\n",
    "df = df[(df.days_of_awaiting_time >= 0)]\n",
    "#Check if any awaiting time days values below 0 left in the dataset\n",
    "print('After change: {}'.format(df[(df.days_of_awaiting_time < 0)].days_of_awaiting_time.value_counts()))"
   ]
  },
  {
   "cell_type": "markdown",
   "metadata": {},
   "source": [
    "### Sms received"
   ]
  },
  {
   "cell_type": "code",
   "execution_count": 29,
   "metadata": {},
   "outputs": [
    {
     "name": "stdout",
     "output_type": "stream",
     "text": [
      "Unique Values in sms_received : [0 1]\n"
     ]
    }
   ],
   "source": [
    "print(\"Unique Values in sms_received : {}\".format(df.Sms_received.unique()))"
   ]
  },
  {
   "cell_type": "code",
   "execution_count": 30,
   "metadata": {},
   "outputs": [
    {
     "data": {
      "image/png": "[encoded data removed]",
      "text/plain": [
       "<Figure size 1152x288 with 1 Axes>"
      ]
     },
     "metadata": {
      "needs_background": "light"
     },
     "output_type": "display_data"
    }
   ],
   "source": [
    "# Let's see how many there are patients of each age\n",
    "plt.figure(figsize=(16,4))\n",
    "plt.xticks(rotation=90)\n",
    "ax = sns.countplot(x=df.days_of_awaiting_time)\n",
    "ax.set_title(\"Number of patients by days of awaiting time \")\n",
    "plt.show()\n"
   ]
  },
  {
   "cell_type": "code",
   "execution_count": 31,
   "metadata": {},
   "outputs": [
    {
     "data": {
      "image/png": "[encoded data removed]",
      "text/plain": [
       "<Figure size 432x288 with 1 Axes>"
      ]
     },
     "metadata": {
      "needs_background": "light"
     },
     "output_type": "display_data"
    }
   ],
   "source": [
    "sns.stripplot(data = df, y = 'days_of_awaiting_time', jitter = True)\n",
    "plt.ylim(0, 200)\n",
    "plt.show();"
   ]
  },
  {
   "cell_type": "markdown",
   "metadata": {},
   "source": [
    "### scheduled day"
   ]
  },
  {
   "cell_type": "code",
   "execution_count": 32,
   "metadata": {},
   "outputs": [
    {
     "name": "stdout",
     "output_type": "stream",
     "text": [
      "Scheduling visits started on: 2015-11-10 00:00:00.\n",
      "Scheduling visits ended on: 2016-06-08 00:00:00.\n"
     ]
    },
    {
     "data": {
      "image/png": "[encoded data removed]",
      "text/plain": [
       "<Figure size 720x720 with 1 Axes>"
      ]
     },
     "metadata": {
      "needs_background": "light"
     },
     "output_type": "display_data"
    }
   ],
   "source": [
    "print('Scheduling visits started on: {}.'.format(df['Scheduled_Day'].min()))\n",
    "print('Scheduling visits ended on: {}.'.format(df['Scheduled_Day'].max()))\n",
    "\n",
    "fig = plt.figure(figsize=(10, 10))\n",
    "ax = fig.add_subplot(1, 1, 1)\n",
    "ax.set_xlabel('Scheduled_Day')\n",
    "ax.set_ylabel('frequency')\n",
    "df['Scheduled_Day'].hist();"
   ]
  },
  {
   "cell_type": "markdown",
   "metadata": {},
   "source": [
    "The distribution of appointments scheduled is left skewed. Most of the schedules were made between April and June of 2016"
   ]
  },
  {
   "cell_type": "markdown",
   "metadata": {},
   "source": [
    "### appointment day"
   ]
  },
  {
   "cell_type": "code",
   "execution_count": 33,
   "metadata": {},
   "outputs": [
    {
     "name": "stdout",
     "output_type": "stream",
     "text": [
      "Visit appointments started on: 2016-04-29 00:00:00.\n",
      "Visit appointments ended on: 2016-06-08 00:00:00.\n"
     ]
    },
    {
     "data": {
      "image/png": "[encoded data removed]",
      "text/plain": [
       "<Figure size 720x720 with 1 Axes>"
      ]
     },
     "metadata": {
      "needs_background": "light"
     },
     "output_type": "display_data"
    }
   ],
   "source": [
    "print('Visit appointments started on: {}.'.format(df['Appointment_Day'].min()))\n",
    "print('Visit appointments ended on: {}.'.format(df['Appointment_Day'].max()))\n",
    "\n",
    "fig = plt.figure(figsize=(10, 10))\n",
    "ax = fig.add_subplot(1,1,1)\n",
    "ax.set_xlabel('Scheduled_Day')\n",
    "ax.set_ylabel('frequency')\n",
    "df['Appointment_Day'].hist(grid=False, ax=ax);"
   ]
  },
  {
   "cell_type": "markdown",
   "metadata": {},
   "source": [
    "<a id='eda'></a>\n",
    "## Exploratory Data Analysis\n"
   ]
  },
  {
   "cell_type": "markdown",
   "metadata": {},
   "source": [
    "## 1.What is the gender distribution for show / no-show patients?"
   ]
  },
  {
   "cell_type": "code",
   "execution_count": 34,
   "metadata": {},
   "outputs": [
    {
     "data": {
      "image/png": "[encoded data removed]",
      "text/plain": [
       "<Figure size 432x288 with 1 Axes>"
      ]
     },
     "metadata": {
      "needs_background": "light"
     },
     "output_type": "display_data"
    },
    {
     "name": "stdout",
     "output_type": "stream",
     "text": [
      "Out of 71831 appointments made by females, 14588 were missed with the ratio of 20%.\n",
      "Out of 38685 appointments made by males, 7723 were missed with the ratio of 20%.\n"
     ]
    }
   ],
   "source": [
    "all_appointments_by_f = len(df.loc[df['Gender'] == \"F\"])\n",
    "all_appointments_by_m = len(df.loc[df['Gender'] == \"M\"])\n",
    "\n",
    "missed_appointments_by_f = len(df.query('No_show == \"Yes\" and Gender == \"F\"'))\n",
    "missed_appointments_by_m = len(df.loc[(df['Gender'] == \"M\") & (df['No_show'] == \"Yes\")])\n",
    "\n",
    "missed_ratio_f = int(round(missed_appointments_by_f/all_appointments_by_f*100))\n",
    "missed_ratio_m = int(round(missed_appointments_by_m/all_appointments_by_m*100))\n",
    "\n",
    "ax = sns.countplot(x=df.Gender, hue=df.No_show, data=df)\n",
    "ax.set_title(\"Show / No-Show for Females and Males\")\n",
    "x_ticks_labels=['Female', 'Male']\n",
    "plt.show();\n",
    "\n",
    "print('Out of {} appointments made by females, {} were missed with the ratio of {}%.'.format(all_appointments_by_f, missed_appointments_by_f, missed_ratio_f))\n",
    "print('Out of {} appointments made by males, {} were missed with the ratio of {}%.'.format(all_appointments_by_m, missed_appointments_by_m, missed_ratio_m))"
   ]
  },
  {
   "cell_type": "markdown",
   "metadata": {},
   "source": [
    "## 2. how many percent of patients missed their scheduled appointment?"
   ]
  },
  {
   "cell_type": "code",
   "execution_count": 35,
   "metadata": {},
   "outputs": [
    {
     "data": {
      "image/png": "[encoded data removed]",
      "text/plain": [
       "<Figure size 432x288 with 1 Axes>"
      ]
     },
     "metadata": {
      "needs_background": "light"
     },
     "output_type": "display_data"
    },
    {
     "name": "stdout",
     "output_type": "stream",
     "text": [
      "20% of appointments were missed.\n"
     ]
    }
   ],
   "source": [
    "all_appointments = df.shape[0]\n",
    "missed_appointments = len(df.query('No_show == \\'Yes\\''))\n",
    "missed_ratio = int(round(missed_appointments/all_appointments*100))\n",
    "\n",
    "ax = sns.countplot(x=df.No_show, data=df)\n",
    "ax.set_title(\"Show / No-Show Patients\")\n",
    "plt.show();\n",
    "\n",
    "print('{}% of appointments were missed.'.format(missed_ratio))"
   ]
  },
  {
   "cell_type": "markdown",
   "metadata": {},
   "source": [
    "### 3. What are important factor to know if the patient show up or not ?"
   ]
  },
  {
   "cell_type": "code",
   "execution_count": 36,
   "metadata": {},
   "outputs": [
    {
     "data": {
      "image/png": "[encoded data removed]",
      "text/plain": [
       "<Figure size 1152x792 with 7 Axes>"
      ]
     },
     "metadata": {
      "needs_background": "light"
     },
     "output_type": "display_data"
    }
   ],
   "source": [
    "# First, let's look at categorical variables\n",
    "categories = ['Gender', 'Scholarship', 'hypertension', 'Diabetes', 'Aalcoholism', 'Handicap', 'Sms_received']\n",
    "\n",
    "fig = plt.figure(figsize=(16, 11))\n",
    "for i, var in enumerate(categories):\n",
    "    ax = fig.add_subplot(3, 3, i+1)\n",
    "    df.groupby([var, 'No_show'])[var].count().unstack('No_show').plot(ax=ax, kind='bar', stacked=True)"
   ]
  },
  {
   "cell_type": "markdown",
   "metadata": {},
   "source": [
    "<a id='conclusions'></a>\n",
    "## Conclusions\n",
    "I saw the data set and fix some problems like float names id, remove wrong data and adding new object using the existing ones.\n",
    "also we have one explortory data which is \"no-show\".\n",
    "\n",
    "what i have manafed to find is :\n",
    "1. Scheduling visits started on 2015-11-10 and ended on 2016-06-08.\n",
    "2. Visit appointments started on 2016-04-29 and ended on 2016-06-08.\n",
    "3. Most of the patients are not alcoholics.\n",
    "4. Most of the patients are not diabetes but more than alcoholics.\n",
    "5. There are many very young people in the dataset (most of them of age 0) but in general the patients age is distributed evenly and the number of patients goes drastricly down for patients older than 60 years.\n",
    "6. The patients are 37 years on average. 25% of patients are below 18 and most of them are below 55.\n",
    "7. There are for handicap categories with most of the people not being handicapted.\n",
    "8. Most patients do not have hypertension diagnosed.\n",
    "9. On average, 20% of appointments were missed.\n",
    "10. For all categorical variables the distributions of show / no-show for different categories look very similar. There is no clear indication of any of these variables having bigger then others impact on show / no-show characteristics. The charts confirm about 20% no-show rate for most categories.\n",
    "\n",
    "\n"
   ]
  }
 ],
 "metadata": {
  "kernelspec": {
   "display_name": "Python 3",
   "language": "python",
   "name": "python3"
  },
  "language_info": {
   "codemirror_mode": {
    "name": "ipython",
    "version": 3
   },
   "file_extension": ".py",
   "mimetype": "text/x-python",
   "name": "python",
   "nbconvert_exporter": "python",
   "pygments_lexer": "ipython3",
   "version": "3.8.8"
  }
 },
 "nbformat": 4,
 "nbformat_minor": 2
}
